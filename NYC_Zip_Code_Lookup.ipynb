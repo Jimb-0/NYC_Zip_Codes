{
 "cells": [
  {
   "cell_type": "markdown",
   "metadata": {},
   "source": [
    "# NYC Zip Code Lookup\n"
   ]
  },
  {
   "cell_type": "code",
   "execution_count": 1,
   "metadata": {},
   "outputs": [],
   "source": [
    "nyc_zip_codes = {\n",
    "    \n",
    "    'Bronx':\n",
    "        {\n",
    "        'Central Bronx': [10453,10457,10460],\n",
    "        'Bronx Park and Fordham': [10458,10467,10468],\n",
    "        'High Bridge and Morrisania': [10451,10452,10456],\n",
    "        'Hunts Point and Mott Haven': [10454,10455,10459,10474],\n",
    "        'Kingsbridge and Riverdale': [10463,10471],\n",
    "        'Northeast Bronx': [10466,10469,10470,10475],\n",
    "        'Southeast Bronx': [10461,10462,10464,10465,10472,10473]\n",
    "        },\n",
    "    'Manhattan':\n",
    "    {\n",
    "    'Central Harlem': [10026,10027,10030,10037,10039],\n",
    "    'Chelsea and Clinton': [10001,10011,10018,10019,10020,10036],\n",
    "    'East Harlem': [10029,10035],\n",
    "    'Gramercy Park and Murray Hill': [10010,10016,10017,10022],\n",
    "    'Greenwich Village and Soho': [10012,10013,10014],\n",
    "    'Lower Manhattan': [10004,10005,10006,10007,10038,10280],\n",
    "    'Lower East Side': [10002,10003,10009],\n",
    "    'Upper East Side': [10021,10028,10044,10065,10075,10128],\n",
    "    'Upper West Side': [10023,10024,10025],\n",
    "    'Inwood and Washington Heights': [10031,10032,10033,10034,10040]\n",
    "    },\n",
    "    'Brooklyn':\n",
    "    {\n",
    "    'Central Brooklyn': [11212,11213,11216,11233,11238],\n",
    "    'Southwest Brooklyn': [11209,11214,11228],\n",
    "    'Borough Park': [11204,11218,11219,11230],\n",
    "    'Canarsie and Flatlands': [11234,11236,11239],\n",
    "    'Southern Brooklyn': [11223,11224,11229,11235],\n",
    "    'Northwest Brooklyn': [11201,11205,11215,11217,11231],\n",
    "    'Flatbush': [11203,11210,11225,11226],\n",
    "    'East New York and New Lots': [11207,11208],\n",
    "    'Greenpoint': [11211,11222],\n",
    "    'Sunset Park': [11220,11232],\n",
    "    'Bushwick and Williamsburg': [11206,11221,11237]\n",
    "    },\n",
    "    'Queens':\n",
    "    {\n",
    "    'Northeast Queens':[11361,11362,11363,11364],\n",
    "    'North Queens': [11354,11355,11356,11357,11358,11359,11360],\n",
    "    'Central Queens': [11365,11366,11367],\n",
    "    'Jamaica': [11412,11423,11432,11433,11434,11435,11436],\n",
    "    'Northwest Queens': [11101,11102,11103,11104,11105,11106],\n",
    "    'West Central Queens': [11374,11375,11379,11385],\n",
    "    'Rockaways': [11691,11692,11693,11694,11695,11697],\n",
    "    'Southeast Queens': [11004,11005,11411,11413,11422,11426,11427,11428,11429],\n",
    "    'Kew Gardens': [11415],\n",
    "    'Southwest Queens': [11414,11416,11417,11418,11419,11420,11421],\n",
    "    'West Queens': [11368,11369,11370,11372,11373,11377,11378]\n",
    "    },\n",
    "    'Staten Island': {\n",
    "    'Port Richmond': [10302,10303,10310],\n",
    "    'South Shore': [10306,10307,10308,10309,10312],\n",
    "    'Stapleton and St.George': [10301,10304,10305],\n",
    "    'Mid-Island': [10314]\n",
    "    }\n",
    "\n",
    "    }"
   ]
  },
  {
   "cell_type": "code",
   "execution_count": 2,
   "metadata": {},
   "outputs": [],
   "source": [
    "#this function returns the name of the input's borough\n",
    "def borough_lookup(zipcode):\n",
    "    for borough in nyc_zip_codes:\n",
    "        for place,zip_list in nyc_zip_codes[borough].items():\n",
    "            if zipcode in zip_list:\n",
    "                return borough"
   ]
  },
  {
   "cell_type": "code",
   "execution_count": 3,
   "metadata": {},
   "outputs": [],
   "source": [
    "#this function returns the name of the input zip code's neighborhood\n",
    "def neighborhood_lookup(zipcode):\n",
    "    for borough in nyc_zip_codes:\n",
    "        for place,zip_list in nyc_zip_codes[borough].items():\n",
    "            if zipcode in zip_list:\n",
    "                return place"
   ]
  },
  {
   "cell_type": "markdown",
   "metadata": {},
   "source": [
    "### Using the neighborhood lookup function"
   ]
  },
  {
   "cell_type": "code",
   "execution_count": 4,
   "metadata": {},
   "outputs": [
    {
     "data": {
      "text/plain": [
       "'Kew Gardens'"
      ]
     },
     "execution_count": 4,
     "metadata": {},
     "output_type": "execute_result"
    }
   ],
   "source": [
    "# EXAMPLE\n",
    "neighborhood_lookup(11415)"
   ]
  },
  {
   "cell_type": "markdown",
   "metadata": {},
   "source": [
    "### Using the borough lookup function"
   ]
  },
  {
   "cell_type": "code",
   "execution_count": 5,
   "metadata": {},
   "outputs": [
    {
     "data": {
      "text/plain": [
       "'Manhattan'"
      ]
     },
     "execution_count": 5,
     "metadata": {},
     "output_type": "execute_result"
    }
   ],
   "source": [
    "borough_lookup(10019)"
   ]
  },
  {
   "cell_type": "markdown",
   "metadata": {},
   "source": [
    "### Can even be used to categorize zip codes "
   ]
  },
  {
   "cell_type": "code",
   "execution_count": 8,
   "metadata": {},
   "outputs": [
    {
     "data": {
      "text/plain": [
       "Queens       5\n",
       "Manhattan    4\n",
       "Bronx        1\n",
       "Brooklyn     1\n",
       "dtype: int64"
      ]
     },
     "execution_count": 8,
     "metadata": {},
     "output_type": "execute_result"
    }
   ],
   "source": [
    "import pandas as pd\n",
    "boroughs = [11428,11415,11367,10019,10003,10466,10012,11375,11211,10001,10218,11101]\n",
    "borough_list = pd.Series([borough_lookup(zip_code) for zip_code in boroughs])\n",
    "borough_list.value_counts(normalize=False)"
   ]
  },
  {
   "cell_type": "code",
   "execution_count": null,
   "metadata": {},
   "outputs": [],
   "source": []
  }
 ],
 "metadata": {
  "kernelspec": {
   "display_name": "Python 3",
   "language": "python",
   "name": "python3"
  },
  "language_info": {
   "codemirror_mode": {
    "name": "ipython",
    "version": 3
   },
   "file_extension": ".py",
   "mimetype": "text/x-python",
   "name": "python",
   "nbconvert_exporter": "python",
   "pygments_lexer": "ipython3",
   "version": "3.7.6"
  }
 },
 "nbformat": 4,
 "nbformat_minor": 4
}
